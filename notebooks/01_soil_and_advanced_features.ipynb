{
 "cells": [
  {
   "cell_type": "markdown",
   "metadata": {},
   "source": [
    "# PyCIAT Advanced Features Tutorial\n",
    "## Soil Integration and Advanced Simulation Features\n",
    "\n",
    "This notebook demonstrates how to use PyCIAT's advanced features including:\n",
    "- Soil data integration\n",
    "- HYDRUS-1D coupling\n",
    "- Biotic stress simulation\n",
    "- Soil carbon modeling\n",
    "- Machine learning surrogates"
   ]
  },
  {
   "cell_type": "code",
   "execution_count": null,
   "metadata": {},
   "source": [
    "import os\n",
    "import sys\n",
    "import numpy as np\n",
    "import pandas as pd\n",
    "import matplotlib.pyplot as plt\n",
    "import seaborn as sns\n",
    "\n",
    "# Add project root to path if needed\n",
    "project_root = os.path.abspath(os.path.join(os.getcwd(), '..'))\n",
    "if project_root not in sys.path:\n",
    "    sys.path.insert(0, project_root)\n",
    "\n",
    "from src import load_config\n",
    "from src.soil_processing import load_soil_data, process_soil_profiles\n",
    "from src.advanced_modules import biotic_stress, soil_carbon\n",
    "from src.surrogate_model.feature_engineering import engineer_features\n",
    "from src.surrogate_model.model_selection import train_surrogate_model"
   ]
  },
  {
   "cell_type": "markdown",
   "metadata": {},
   "source": [
    "## 1. Load Configuration and Setup"
   ]
  },
  {
   "cell_type": "code",
   "execution_count": null,
   "metadata": {},
   "source": [
    "# Load config\n",
    "config = load_config('config/config.yaml')\n",
    "\n",
    "# Set paths\n",
    "soil_shapefile = config['paths']['soil_shapefile']\n",
    "soil_profiles = config['paths']['soil_profiles']\n",
    "experimental_data = config['paths']['experimental_data']"
   ]
  },
  {
   "cell_type": "markdown",
   "metadata": {},
   "source": [
    "## 2. Soil Data Integration\n",
    "\n",
    "Demonstrate how to load and process soil data for integration with crop models."
   ]
  },
  {
   "cell_type": "code",
   "execution_count": null,
   "metadata": {},
   "source": [
    "# Load soil data\n",
    "soil_df = load_soil_data(soil_shapefile)\n",
    "\n",
    "# Process soil profiles\n",
    "soil_profiles_df = process_soil_profiles(soil_profiles)\n",
    "\n",
    "# Display summary\n",
    "print(\"\\nSoil Data Summary:\")\n",
    "print(f\"Number of soil units: {len(soil_df)}\")\n",
    "print(f\"Number of soil profiles: {len(soil_profiles_df)}\")\n",
    "\n",
    "# Plot soil texture distribution\n",
    "plt.figure(figsize=(10, 6))\n",
    "plt.scatter(soil_profiles_df['clay_pct'], soil_profiles_df['sand_pct'], alpha=0.6)\n",
    "plt.xlabel('Clay %')\n",
    "plt.ylabel('Sand %')\n",
    "plt.title('Soil Texture Distribution')\n",
    "plt.grid(True)\n",
    "plt.show()"
   ]
  },
  {
   "cell_type": "markdown",
   "metadata": {},
   "source": [
    "## 3. Advanced Simulation Features\n",
    "\n",
    "### 3.1 Biotic Stress Simulation"
   ]
  },
  {
   "cell_type": "code",
   "execution_count": null,
   "metadata": {},
   "source": [
    "# Configure biotic stress\n",
    "stress_config = config['simulation']['biotic_stress_parameters']\n",
    "\n",
    "# Example stress event simulation\n",
    "stress_impact = biotic_stress.simulate_stress_impact(\n",
    "    target_variable='yield',\n",
    "    stress_timing=60,  # Days after sowing\n",
    "    stress_duration=30,\n",
    "    stress_intensity=0.15\n",
    ")\n",
    "\n",
    "# Plot stress impact\n",
    "plt.figure(figsize=(10, 6))\n",
    "plt.plot(range(120), stress_impact)\n",
    "plt.xlabel('Days After Sowing')\n",
    "plt.ylabel('Stress Factor')\n",
    "plt.title('Biotic Stress Impact Profile')\n",
    "plt.grid(True)\n",
    "plt.show()"
   ]
  },
  {
   "cell_type": "markdown",
   "metadata": {},
   "source": [
    "### 3.2 Soil Carbon Modeling"
   ]
  },
  {
   "cell_type": "code",
   "execution_count": null,
   "metadata": {},
   "source": [
    "# Initialize soil carbon model\n",
    "soc_config = config['simulation']['soil_carbon_parameters']\n",
    "initial_soc = soc_config['initial_soc_ton_ha']\n",
    "residue_incorporation = soc_config['residue_incorporation_pct']\n",
    "\n",
    "# Simulate carbon dynamics\n",
    "years = np.arange(2025, 2051)\n",
    "soc_trajectory = soil_carbon.simulate_soc_dynamics(\n",
    "    initial_soc=initial_soc,\n",
    "    residue_incorporation_rate=residue_incorporation/100,\n",
    "    years=len(years)\n",
    ")\n",
    "\n",
    "# Plot SOC trajectory\n",
    "plt.figure(figsize=(10, 6))\n",
    "plt.plot(years, soc_trajectory)\n",
    "plt.xlabel('Year')\n",
    "plt.ylabel('Soil Organic Carbon (t/ha)')\n",
    "plt.title('Soil Carbon Dynamics Under Management')\n",
    "plt.grid(True)\n",
    "plt.show()"
   ]
  },
  {
   "cell_type": "markdown",
   "metadata": {},
   "source": [
    "## 4. Machine Learning Integration\n",
    "\n",
    "Demonstrate how to train and use surrogate models for rapid impact assessment."
   ]
  },
  {
   "cell_type": "code",
   "execution_count": null,
   "metadata": {},
   "source": [
    "# Load simulation results\n",
    "results_file = os.path.join(config['paths']['analysis_output_dir'], 'combined_results_std_vars.parquet')\n",
    "df_results = pd.read_parquet(results_file)\n",
    "\n",
    "# Engineer features\n",
    "df_engineered, feature_list = engineer_features(df_results, config)\n",
    "\n",
    "# Train surrogate model\n",
    "trained_models = train_surrogate_model(\n",
    "    df_engineered[feature_list],\n",
    "    df_engineered[config['surrogate_model']['targets']],\n",
    "    feature_list,\n",
    "    config['surrogate_model']['targets'],\n",
    "    config\n",
    ")\n",
    "\n",
    "# Display feature importance\n",
    "importances = pd.DataFrame({\n",
    "    'feature': feature_list,\n",
    "    'importance': trained_models['yield'].feature_importances_\n",
    "}).sort_values('importance', ascending=False)\n",
    "\n",
    "plt.figure(figsize=(10, 6))\n",
    "sns.barplot(data=importances.head(10), x='importance', y='feature')\n",
    "plt.title('Top 10 Feature Importances for Yield Prediction')\n",
    "plt.show()"
   ]
  },
  {
   "cell_type": "markdown",
   "metadata": {},
   "source": [
    "## 5. Summary and Next Steps\n",
    "\n",
    "This notebook demonstrated PyCIAT's advanced features including:\n",
    "- Soil data integration and processing\n",
    "- Biotic stress simulation capabilities\n",
    "- Soil carbon modeling\n",
    "- Machine learning surrogate model development\n",
    "\n",
    "These features enable more comprehensive climate impact assessments by considering:\n",
    "- Soil-specific responses\n",
    "- Pest/disease impacts\n",
    "- Carbon sequestration potential\n",
    "- Rapid scenario exploration\n",
    "\n",
    "For more details, refer to the documentation and other example notebooks."
   ]
  }
 ],
 "metadata": {
  "kernelspec": {
   "display_name": "Python 3",
   "language": "python",
   "name": "python3"
  },
  "language_info": {
   "codemirror_mode": {
    "name": "ipython",
    "version": 3
   },
   "file_extension": ".py",
   "mimetype": "text/x-python",
   "name": "python",
   "nbconvert_exporter": "python",
   "pygments_lexer": "ipython3",
   "version": "3.8.0"
  }
 },
 "nbformat": 4,
 "nbformat_minor": 4
}
